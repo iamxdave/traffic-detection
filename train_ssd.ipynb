{
 "cells": [
  {
   "cell_type": "code",
   "execution_count": 1,
   "id": "c4b6e55a",
   "metadata": {},
   "outputs": [],
   "source": [
    "# training_ssd.ipynb\n",
    "import sys\n",
    "from pathlib import Path\n",
    "import yaml\n",
    "import torch\n",
    "from torch.utils.data import DataLoader\n",
    "from torchvision.models.detection import ssd300_vgg16\n",
    "from torchvision.models.detection.ssd import SSDClassificationHead\n",
    "from utils import get_transform, collate_fn\n",
    "from traffic_dataset import TrafficDataset\n",
    "from trainer import train_and_validate, prepare_save_dir\n"
   ]
  },
  {
   "cell_type": "code",
   "execution_count": 2,
   "id": "6d9b0f47",
   "metadata": {},
   "outputs": [],
   "source": [
    "project_root = Path().resolve()\n",
    "sys.path.append(str(project_root))\n",
    "\n",
    "def load_config(path):\n",
    "    with open(path, 'r') as file:\n",
    "        return yaml.safe_load(file)\n",
    "\n",
    "cfg = load_config(project_root / 'cfg' / 'ssd_day.yaml')\n",
    "data_cfg = load_config(project_root / 'dataset' / 'dataset.yaml')"
   ]
  },
  {
   "cell_type": "code",
   "execution_count": 3,
   "id": "a1704d0c",
   "metadata": {},
   "outputs": [],
   "source": [
    "train_dataset_day = TrafficDataset(\n",
    "    csv_file='dataset/annotations_train_balanced_day.csv',\n",
    "    root_dir=Path(\"dataset/day/train\"),\n",
    "    transforms=get_transform(train=True, cfg=cfg)\n",
    ")\n",
    "val_dataset_day = TrafficDataset(\n",
    "    csv_file='dataset/annotations_test_balanced_day.csv',\n",
    "    root_dir=Path(\"dataset/day/test\"),\n",
    "    transforms=get_transform(train=False, cfg=cfg)\n",
    ")\n",
    "\n",
    "train_loader_day = DataLoader(train_dataset_day, batch_size=cfg['batch_size'], shuffle=True, collate_fn=collate_fn, num_workers=8)\n",
    "val_loader_day = DataLoader(val_dataset_day, batch_size=cfg['batch_size'], shuffle=False, collate_fn=collate_fn, num_workers=8)"
   ]
  },
  {
   "cell_type": "code",
   "execution_count": 4,
   "id": "7ae640ce",
   "metadata": {},
   "outputs": [
    {
     "name": "stderr",
     "output_type": "stream",
     "text": [
      "/workspace/traffic-detection/venv/lib/python3.10/site-packages/torchvision/models/_utils.py:208: UserWarning: The parameter 'pretrained' is deprecated since 0.13 and may be removed in the future, please use 'weights' instead.\n",
      "  warnings.warn(\n",
      "/workspace/traffic-detection/venv/lib/python3.10/site-packages/torchvision/models/_utils.py:223: UserWarning: Arguments other than a weight enum or `None` for 'weights' are deprecated since 0.13 and may be removed in the future. The current behavior is equivalent to passing `weights=SSD300_VGG16_Weights.COCO_V1`. You can also use `weights=SSD300_VGG16_Weights.DEFAULT` to get the most up-to-date weights.\n",
      "  warnings.warn(msg)\n",
      "Downloading: \"https://download.pytorch.org/models/ssd300_vgg16_coco-b556d3b4.pth\" to /root/.cache/torch/hub/checkpoints/ssd300_vgg16_coco-b556d3b4.pth\n",
      "100%|██████████| 136M/136M [00:01<00:00, 88.2MB/s] \n"
     ]
    }
   ],
   "source": [
    "save_dir_day = prepare_save_dir(project_root / \"runs_ssd\" / \"ssd_day_balanced\", cfg)\n",
    "\n",
    "# Model setup\n",
    "model_day = ssd300_vgg16(pretrained=True)\n",
    "in_channels = [m.in_channels for m in model_day.head.classification_head.module_list]\n",
    "num_anchors = model_day.anchor_generator.num_anchors_per_location()\n",
    "model_day.head.classification_head = SSDClassificationHead(in_channels, num_anchors, data_cfg['nc'])"
   ]
  },
  {
   "cell_type": "code",
   "execution_count": 5,
   "id": "f398718f",
   "metadata": {},
   "outputs": [
    {
     "name": "stdout",
     "output_type": "stream",
     "text": [
      "True\n",
      "12.1\n"
     ]
    }
   ],
   "source": [
    "print(torch.cuda.is_available())\n",
    "print(torch.version.cuda)\n",
    "torch.cuda.empty_cache()"
   ]
  },
  {
   "cell_type": "code",
   "execution_count": 6,
   "id": "ce0bb399",
   "metadata": {},
   "outputs": [
    {
     "name": "stderr",
     "output_type": "stream",
     "text": [
      "[Epoch 1/50] Training: 100%|██████████| 200/200 [01:46<00:00,  1.88it/s, loss=17.1]\n",
      "[Epoch 1] Validation: 100%|██████████| 116/116 [00:53<00:00,  2.19it/s]\n"
     ]
    },
    {
     "name": "stdout",
     "output_type": "stream",
     "text": [
      "loading annotations into memory...\n",
      "Done (t=0.57s)\n",
      "creating index...\n",
      "index created!\n",
      "Loading and preparing results...\n"
     ]
    },
    {
     "name": "stderr",
     "output_type": "stream",
     "text": [
      "[Epoch 2/50] Training: 100%|██████████| 200/200 [01:49<00:00,  1.83it/s, loss=22.5]\n",
      "[Epoch 2] Validation: 100%|██████████| 116/116 [00:54<00:00,  2.14it/s]\n"
     ]
    },
    {
     "name": "stdout",
     "output_type": "stream",
     "text": [
      "loading annotations into memory...\n",
      "Done (t=0.17s)\n",
      "creating index...\n",
      "index created!\n",
      "Loading and preparing results...\n"
     ]
    },
    {
     "name": "stderr",
     "output_type": "stream",
     "text": [
      "[Epoch 3/50] Training: 100%|██████████| 200/200 [01:52<00:00,  1.77it/s, loss=18.6]\n",
      "[Epoch 3] Validation: 100%|██████████| 116/116 [00:56<00:00,  2.05it/s]\n"
     ]
    },
    {
     "name": "stdout",
     "output_type": "stream",
     "text": [
      "loading annotations into memory...\n",
      "Done (t=0.22s)\n",
      "creating index...\n",
      "index created!\n",
      "Loading and preparing results...\n"
     ]
    },
    {
     "name": "stderr",
     "output_type": "stream",
     "text": [
      "[Epoch 4/50] Training:  84%|████████▍ | 169/200 [02:13<00:24,  1.27it/s, loss=24.9]\n"
     ]
    },
    {
     "ename": "KeyboardInterrupt",
     "evalue": "",
     "output_type": "error",
     "traceback": [
      "\u001b[0;31m---------------------------------------------------------------------------\u001b[0m",
      "\u001b[0;31mKeyboardInterrupt\u001b[0m                         Traceback (most recent call last)",
      "Cell \u001b[0;32mIn[6], line 1\u001b[0m\n\u001b[0;32m----> 1\u001b[0m \u001b[43mtrain_and_validate\u001b[49m\u001b[43m(\u001b[49m\u001b[43mmodel_day\u001b[49m\u001b[43m,\u001b[49m\u001b[43m \u001b[49m\u001b[43mcfg\u001b[49m\u001b[43m,\u001b[49m\u001b[43m \u001b[49m\u001b[43mdata_cfg\u001b[49m\u001b[43m,\u001b[49m\u001b[43m \u001b[49m\u001b[43mtrain_loader_day\u001b[49m\u001b[43m,\u001b[49m\u001b[43m \u001b[49m\u001b[43mval_loader_day\u001b[49m\u001b[43m,\u001b[49m\u001b[43m \u001b[49m\u001b[43msave_dir_day\u001b[49m\u001b[43m)\u001b[49m\n",
      "File \u001b[0;32m/workspace/traffic-detection/trainer.py:35\u001b[0m, in \u001b[0;36mtrain_and_validate\u001b[0;34m(model, cfg, data_cfg, train_loader, val_loader, save_dir)\u001b[0m\n\u001b[1;32m     33\u001b[0m pbar \u001b[38;5;241m=\u001b[39m tqdm(train_loader, desc\u001b[38;5;241m=\u001b[39m\u001b[38;5;124mf\u001b[39m\u001b[38;5;124m\"\u001b[39m\u001b[38;5;124m[Epoch \u001b[39m\u001b[38;5;132;01m{\u001b[39;00mepoch\u001b[38;5;241m+\u001b[39m\u001b[38;5;241m1\u001b[39m\u001b[38;5;132;01m}\u001b[39;00m\u001b[38;5;124m/\u001b[39m\u001b[38;5;132;01m{\u001b[39;00mcfg[\u001b[38;5;124m'\u001b[39m\u001b[38;5;124mepochs\u001b[39m\u001b[38;5;124m'\u001b[39m]\u001b[38;5;132;01m}\u001b[39;00m\u001b[38;5;124m] Training\u001b[39m\u001b[38;5;124m\"\u001b[39m)\n\u001b[1;32m     34\u001b[0m \u001b[38;5;28;01mfor\u001b[39;00m images, targets \u001b[38;5;129;01min\u001b[39;00m pbar:\n\u001b[0;32m---> 35\u001b[0m     images \u001b[38;5;241m=\u001b[39m [img\u001b[38;5;241m.\u001b[39mto(device, non_blocking\u001b[38;5;241m=\u001b[39m\u001b[38;5;28;01mTrue\u001b[39;00m) \u001b[38;5;28;01mfor\u001b[39;00m img \u001b[38;5;129;01min\u001b[39;00m images]\n\u001b[1;32m     36\u001b[0m     targets \u001b[38;5;241m=\u001b[39m [{k: v\u001b[38;5;241m.\u001b[39mto(device, non_blocking\u001b[38;5;241m=\u001b[39m\u001b[38;5;28;01mTrue\u001b[39;00m) \u001b[38;5;28;01mfor\u001b[39;00m k, v \u001b[38;5;129;01min\u001b[39;00m t\u001b[38;5;241m.\u001b[39mitems()} \u001b[38;5;28;01mfor\u001b[39;00m t \u001b[38;5;129;01min\u001b[39;00m targets]\n\u001b[1;32m     38\u001b[0m     \u001b[38;5;28;01mwith\u001b[39;00m torch\u001b[38;5;241m.\u001b[39mcuda\u001b[38;5;241m.\u001b[39mamp\u001b[38;5;241m.\u001b[39mautocast():\n",
      "File \u001b[0;32m/workspace/traffic-detection/trainer.py:35\u001b[0m, in \u001b[0;36m<listcomp>\u001b[0;34m(.0)\u001b[0m\n\u001b[1;32m     33\u001b[0m pbar \u001b[38;5;241m=\u001b[39m tqdm(train_loader, desc\u001b[38;5;241m=\u001b[39m\u001b[38;5;124mf\u001b[39m\u001b[38;5;124m\"\u001b[39m\u001b[38;5;124m[Epoch \u001b[39m\u001b[38;5;132;01m{\u001b[39;00mepoch\u001b[38;5;241m+\u001b[39m\u001b[38;5;241m1\u001b[39m\u001b[38;5;132;01m}\u001b[39;00m\u001b[38;5;124m/\u001b[39m\u001b[38;5;132;01m{\u001b[39;00mcfg[\u001b[38;5;124m'\u001b[39m\u001b[38;5;124mepochs\u001b[39m\u001b[38;5;124m'\u001b[39m]\u001b[38;5;132;01m}\u001b[39;00m\u001b[38;5;124m] Training\u001b[39m\u001b[38;5;124m\"\u001b[39m)\n\u001b[1;32m     34\u001b[0m \u001b[38;5;28;01mfor\u001b[39;00m images, targets \u001b[38;5;129;01min\u001b[39;00m pbar:\n\u001b[0;32m---> 35\u001b[0m     images \u001b[38;5;241m=\u001b[39m [\u001b[43mimg\u001b[49m\u001b[38;5;241;43m.\u001b[39;49m\u001b[43mto\u001b[49m\u001b[43m(\u001b[49m\u001b[43mdevice\u001b[49m\u001b[43m,\u001b[49m\u001b[43m \u001b[49m\u001b[43mnon_blocking\u001b[49m\u001b[38;5;241;43m=\u001b[39;49m\u001b[38;5;28;43;01mTrue\u001b[39;49;00m\u001b[43m)\u001b[49m \u001b[38;5;28;01mfor\u001b[39;00m img \u001b[38;5;129;01min\u001b[39;00m images]\n\u001b[1;32m     36\u001b[0m     targets \u001b[38;5;241m=\u001b[39m [{k: v\u001b[38;5;241m.\u001b[39mto(device, non_blocking\u001b[38;5;241m=\u001b[39m\u001b[38;5;28;01mTrue\u001b[39;00m) \u001b[38;5;28;01mfor\u001b[39;00m k, v \u001b[38;5;129;01min\u001b[39;00m t\u001b[38;5;241m.\u001b[39mitems()} \u001b[38;5;28;01mfor\u001b[39;00m t \u001b[38;5;129;01min\u001b[39;00m targets]\n\u001b[1;32m     38\u001b[0m     \u001b[38;5;28;01mwith\u001b[39;00m torch\u001b[38;5;241m.\u001b[39mcuda\u001b[38;5;241m.\u001b[39mamp\u001b[38;5;241m.\u001b[39mautocast():\n",
      "\u001b[0;31mKeyboardInterrupt\u001b[0m: "
     ]
    }
   ],
   "source": [
    "train_and_validate(model_day, cfg, data_cfg, train_loader_day, val_loader_day, save_dir_day)"
   ]
  },
  {
   "cell_type": "code",
   "execution_count": null,
   "id": "1293fb2d",
   "metadata": {},
   "outputs": [],
   "source": [
    "# train_dataset_night = TrafficDataset(\n",
    "#     csv_file='dataset/annotations_train_night.csv',\n",
    "#     root_dir=Path(\"dataset/night/train\"),\n",
    "#     transforms=get_transform(train=True, cfg=cfg)\n",
    "# )\n",
    "# val_dataset_night = TrafficDataset(\n",
    "#     csv_file='dataset/annotations_test_night.csv',\n",
    "#     root_dir=Path(\"dataset/night/test\"),\n",
    "#     transforms=get_transform(train=False, cfg=cfg)\n",
    "# )"
   ]
  },
  {
   "cell_type": "code",
   "execution_count": null,
   "id": "82bf7af1",
   "metadata": {},
   "outputs": [],
   "source": [
    "# train_loader_night = DataLoader(train_dataset_night, batch_size=cfg['batch_size'], shuffle=True, collate_fn=collate_fn, num_workers=8)\n",
    "# val_loader_night = DataLoader(val_dataset_night, batch_size=cfg['batch_size'], shuffle=False, collate_fn=collate_fn, num_workers=8)"
   ]
  },
  {
   "cell_type": "code",
   "execution_count": null,
   "id": "389db0a3",
   "metadata": {},
   "outputs": [],
   "source": [
    "# save_dir_night = prepare_save_dir(project_root / \"runs_ssd\" / \"ssd_night\", cfg)\n",
    "\n",
    "# model_night = ssd300_vgg16(pretrained=True)\n",
    "# in_channels = [m.in_channels for m in model_night.head.classification_head.module_list]\n",
    "# num_anchors = model_night.anchor_generator.num_anchors_per_location()\n",
    "# model_night.head.classification_head = SSDClassificationHead(in_channels, num_anchors, data_cfg['nc'])"
   ]
  },
  {
   "cell_type": "code",
   "execution_count": null,
   "id": "dcd321f7",
   "metadata": {},
   "outputs": [],
   "source": [
    "# train_and_validate(model_night, cfg, data_cfg, train_loader_night, val_loader_night, save_dir_night)"
   ]
  }
 ],
 "metadata": {
  "kernelspec": {
   "display_name": "Python (venv)",
   "language": "python",
   "name": "venv"
  },
  "language_info": {
   "codemirror_mode": {
    "name": "ipython",
    "version": 3
   },
   "file_extension": ".py",
   "mimetype": "text/x-python",
   "name": "python",
   "nbconvert_exporter": "python",
   "pygments_lexer": "ipython3",
   "version": "3.10.12"
  }
 },
 "nbformat": 4,
 "nbformat_minor": 5
}
