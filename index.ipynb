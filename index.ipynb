{
 "cells": [
  {
   "cell_type": "code",
   "execution_count": null,
   "id": "9ae196b5",
   "metadata": {},
   "outputs": [],
   "source": [
    "!bash setup_env.sh"
   ]
  },
  {
   "cell_type": "code",
   "execution_count": null,
   "id": "80535a6b",
   "metadata": {},
   "outputs": [],
   "source": [
    "# 📂 Klonowanie repozytorium (jeśli nie jest zrobione)\n",
    "!git clone https://github.com/your-username/traffic-detection.git\n",
    "%cd traffic-detection\n"
   ]
  },
  {
   "cell_type": "code",
   "execution_count": null,
   "id": "9ad82c02",
   "metadata": {},
   "outputs": [],
   "source": [
    "# 📁 Pobieranie danych z Google Drive (zmień ID na swoje)\n",
    "!gdown --folder https://drive.google.com/drive/folders/1GhVDFh4RGzxE4fPoTRNXbIRBPAOciAbO -O dataset --folder\n"
   ]
  },
  {
   "cell_type": "code",
   "execution_count": null,
   "id": "7507ecb5",
   "metadata": {},
   "outputs": [],
   "source": [
    "# 🧼 Przygotowanie danych\n",
    "# !python prepare_data.py\n"
   ]
  }
 ],
 "metadata": {
  "language_info": {
   "name": "python"
  }
 },
 "nbformat": 4,
 "nbformat_minor": 5
}
