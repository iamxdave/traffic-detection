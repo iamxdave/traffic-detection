{
 "cells": [
  {
   "cell_type": "code",
   "execution_count": null,
   "metadata": {},
   "outputs": [],
   "source": [
    "# training_notebook.ipynb\n",
    "import sys\n",
    "import os\n",
    "from pathlib import Path\n",
    "\n",
    "# Get project root (one level up from current working directory)\n",
    "project_root = Path().resolve()\n",
    "sys.path.append(str(project_root))  # Convert Path to str for sys.path"
   ]
  },
  {
   "cell_type": "code",
   "execution_count": 2,
   "metadata": {},
   "outputs": [],
   "source": [
    "import torch\n",
    "from ultralytics import YOLO\n",
    "import yaml"
   ]
  },
  {
   "cell_type": "code",
   "execution_count": 3,
   "metadata": {},
   "outputs": [],
   "source": [
    "# Define dataset paths using pathlib for cross-platform compatibility\n",
    "train_data = project_root / 'dataset' / 'train_balanced_day.txt'\n",
    "val_data = project_root / 'dataset' / 'test_balanced_day.txt'\n",
    "\n",
    "# train_data = train_data.as_posix()  # Convert to macOS format (forward slashes)\n",
    "# val_data = val_data.as_posix()  # Convert to macOS format (forward slashes)"
   ]
  },
  {
   "cell_type": "code",
   "execution_count": 4,
   "metadata": {},
   "outputs": [],
   "source": [
    "def load_config(config_path):\n",
    "    with open(config_path, 'r') as file:\n",
    "        config = yaml.load(file, Loader=yaml.FullLoader)\n",
    "    return config\n",
    "\n",
    "# Load the configurations file\n",
    "model_cfg = load_config(project_root / \"cfg\" / \"yolo.yaml\")\n",
    "dataset_cfg = load_config(project_root / \"dataset\" / \"dataset.yaml\")"
   ]
  },
  {
   "cell_type": "code",
   "execution_count": 5,
   "metadata": {},
   "outputs": [
    {
     "name": "stdout",
     "output_type": "stream",
     "text": [
      "🧹 Removed 2 .cache files.\n"
     ]
    }
   ],
   "source": [
    "def remove_cache_files(root_dir=\"dataset\"):\n",
    "    removed = 0\n",
    "    for dirpath, _, filenames in os.walk(root_dir):\n",
    "        for file in filenames:\n",
    "            if file.endswith(\".cache\"):\n",
    "                os.remove(os.path.join(dirpath, file))\n",
    "                removed += 1\n",
    "    print(f\"🧹 Removed {removed} .cache files.\")\n",
    "\n",
    "remove_cache_files()"
   ]
  },
  {
   "cell_type": "code",
   "execution_count": 6,
   "metadata": {},
   "outputs": [
    {
     "name": "stdout",
     "output_type": "stream",
     "text": [
      "True\n",
      "12.1\n"
     ]
    }
   ],
   "source": [
    "print(torch.cuda.is_available())\n",
    "print(torch.version.cuda)\n",
    "torch.cuda.empty_cache()"
   ]
  },
  {
   "cell_type": "code",
   "execution_count": null,
   "metadata": {},
   "outputs": [],
   "source": []
  },
  {
   "cell_type": "code",
   "execution_count": null,
   "metadata": {},
   "outputs": [
    {
     "name": "stdout",
     "output_type": "stream",
     "text": [
      "New https://pypi.org/project/ultralytics/8.3.143 available  Update with 'pip install -U ultralytics'\n",
      "Ultralytics 8.3.141  Python-3.11.3 torch-2.2.2+cu121 CUDA:0 (NVIDIA GeForce GTX 1080, 8192MiB)\n",
      "\u001b[34m\u001b[1mengine\\trainer: \u001b[0magnostic_nms=False, amp=True, augment=False, auto_augment=randaugment, batch=16, bgr=0.0, box=7.5, cache=False, cfg=None, classes=None, close_mosaic=10, cls=0.5, conf=None, copy_paste=0.0, copy_paste_mode=flip, cos_lr=False, cutmix=0.0, data=dataset/dataset_day.yaml, degrees=0.0, deterministic=True, device=0, dfl=1.5, dnn=False, dropout=0.0, dynamic=False, embed=None, epochs=30, erasing=0.4, exist_ok=False, fliplr=0.015, flipud=0.0, format=torchscript, fraction=1.0, freeze=None, half=False, hsv_h=0.011, hsv_s=0.95, hsv_v=0.45, imgsz=640, int8=False, iou=0.7, keras=False, kobj=1.0, line_width=None, lr0=0.01, lrf=0.01, mask_ratio=4, max_det=300, mixup=0.4, mode=train, model=yolov8m.yaml, momentum=0.8, mosaic=0.65, multi_scale=False, name=yolo_day_balanced, nbs=64, nms=False, opset=None, optimize=False, optimizer=SGD, overlap_mask=True, patience=5, perspective=0.0, plots=True, pose=12.0, pretrained=True, profile=False, project=runs_yolo, rect=False, resume=None, retina_masks=False, save=True, save_conf=False, save_crop=False, save_dir=runs_yolo\\yolo_day_balanced, save_frames=False, save_json=False, save_period=-1, save_txt=False, scale=1, seed=0, shear=0.4, show=False, show_boxes=True, show_conf=True, show_labels=True, simplify=True, single_cls=False, source=None, split=val, stream_buffer=False, task=detect, time=None, tracker=botsort.yaml, translate=0.05, val=True, verbose=False, vid_stride=1, visualize=False, warmup_bias_lr=0.1, warmup_epochs=3, warmup_momentum=0.8, weight_decay=0.0045, workers=4, workspace=None\n",
      "Overriding model.yaml nc=80 with nc=6\n",
      "\n",
      "                   from  n    params  module                                       arguments                     \n",
      "  0                  -1  1      1392  ultralytics.nn.modules.conv.Conv             [3, 48, 3, 2]                 \n",
      "  1                  -1  1     41664  ultralytics.nn.modules.conv.Conv             [48, 96, 3, 2]                \n",
      "  2                  -1  2    111360  ultralytics.nn.modules.block.C2f             [96, 96, 2, True]             \n",
      "  3                  -1  1    166272  ultralytics.nn.modules.conv.Conv             [96, 192, 3, 2]               \n",
      "  4                  -1  4    813312  ultralytics.nn.modules.block.C2f             [192, 192, 4, True]           \n",
      "  5                  -1  1    664320  ultralytics.nn.modules.conv.Conv             [192, 384, 3, 2]              \n",
      "  6                  -1  4   3248640  ultralytics.nn.modules.block.C2f             [384, 384, 4, True]           \n",
      "  7                  -1  1   1991808  ultralytics.nn.modules.conv.Conv             [384, 576, 3, 2]              \n",
      "  8                  -1  2   3985920  ultralytics.nn.modules.block.C2f             [576, 576, 2, True]           \n",
      "  9                  -1  1    831168  ultralytics.nn.modules.block.SPPF            [576, 576, 5]                 \n",
      " 10                  -1  1         0  torch.nn.modules.upsampling.Upsample         [None, 2, 'nearest']          \n",
      " 11             [-1, 6]  1         0  ultralytics.nn.modules.conv.Concat           [1]                           \n",
      " 12                  -1  2   1993728  ultralytics.nn.modules.block.C2f             [960, 384, 2]                 \n",
      " 13                  -1  1         0  torch.nn.modules.upsampling.Upsample         [None, 2, 'nearest']          \n",
      " 14             [-1, 4]  1         0  ultralytics.nn.modules.conv.Concat           [1]                           \n",
      " 15                  -1  2    517632  ultralytics.nn.modules.block.C2f             [576, 192, 2]                 \n",
      " 16                  -1  1    332160  ultralytics.nn.modules.conv.Conv             [192, 192, 3, 2]              \n",
      " 17            [-1, 12]  1         0  ultralytics.nn.modules.conv.Concat           [1]                           \n",
      " 18                  -1  2   1846272  ultralytics.nn.modules.block.C2f             [576, 384, 2]                 \n",
      " 19                  -1  1   1327872  ultralytics.nn.modules.conv.Conv             [384, 384, 3, 2]              \n",
      " 20             [-1, 9]  1         0  ultralytics.nn.modules.conv.Concat           [1]                           \n",
      " 21                  -1  2   4207104  ultralytics.nn.modules.block.C2f             [960, 576, 2]                 \n",
      " 22        [15, 18, 21]  1   3779170  ultralytics.nn.modules.head.Detect           [6, [192, 384, 576]]          \n",
      "YOLOv8m summary: 169 layers, 25,859,794 parameters, 25,859,778 gradients, 79.1 GFLOPs\n",
      "\n",
      "Freezing layer 'model.22.dfl.conv.weight'\n",
      "\u001b[34m\u001b[1mAMP: \u001b[0mrunning Automatic Mixed Precision (AMP) checks...\n"
     ]
    },
    {
     "name": "stderr",
     "output_type": "stream",
     "text": [
      "c:\\Users\\Dawid\\Desktop\\traffic-detection\\venv\\Lib\\site-packages\\tqdm\\auto.py:21: TqdmWarning: IProgress not found. Please update jupyter and ipywidgets. See https://ipywidgets.readthedocs.io/en/stable/user_install.html\n",
      "  from .autonotebook import tqdm as notebook_tqdm\n"
     ]
    },
    {
     "name": "stdout",
     "output_type": "stream",
     "text": [
      "\u001b[34m\u001b[1mAMP: \u001b[0mchecks passed \n",
      "\u001b[34m\u001b[1mtrain: \u001b[0mFast image access  (ping: 0.10.0 ms, read: 268.849.7 MB/s, size: 166.4 KB)\n"
     ]
    },
    {
     "name": "stderr",
     "output_type": "stream",
     "text": [
      "\u001b[34m\u001b[1mtrain: \u001b[0mScanning dataset\\day\\test\\daySequence1\\frames... 20178 images, 0 backgrounds, 0 corrupt: 100%|██████████| 20178/20178 [00:13<00:00, 1529.70it/s]\n"
     ]
    },
    {
     "name": "stdout",
     "output_type": "stream",
     "text": [
      "\u001b[34m\u001b[1mtrain: \u001b[0mNew cache created: dataset\\day\\test\\daySequence1\\frames.cache\n",
      "\u001b[34m\u001b[1malbumentations: \u001b[0mBlur(p=0.01, blur_limit=(3, 7)), MedianBlur(p=0.01, blur_limit=(3, 7)), ToGray(p=0.01, method='weighted_average', num_output_channels=3), CLAHE(p=0.01, clip_limit=(1.0, 4.0), tile_grid_size=(8, 8))\n",
      "\u001b[34m\u001b[1mval: \u001b[0mFast image access  (ping: 0.10.1 ms, read: 312.7204.5 MB/s, size: 160.5 KB)\n"
     ]
    },
    {
     "name": "stderr",
     "output_type": "stream",
     "text": [
      "\u001b[34m\u001b[1mval: \u001b[0mScanning dataset\\day\\test\\daySequence1\\frames... 7403 images, 0 backgrounds, 0 corrupt: 100%|██████████| 7403/7403 [00:04<00:00, 1792.06it/s]\n"
     ]
    },
    {
     "name": "stdout",
     "output_type": "stream",
     "text": [
      "\u001b[34m\u001b[1mval: \u001b[0mNew cache created: dataset\\day\\test\\daySequence1\\frames.cache\n",
      "Plotting labels to runs_yolo\\yolo_day_balanced\\labels.jpg... \n",
      "\u001b[34m\u001b[1moptimizer:\u001b[0m SGD(lr=0.01, momentum=0.8) with parameter groups 77 weight(decay=0.0), 84 weight(decay=0.0045), 83 bias(decay=0.0)\n",
      "Image sizes 640 train, 640 val\n",
      "Using 4 dataloader workers\n",
      "Logging results to \u001b[1mruns_yolo\\yolo_day_balanced\u001b[0m\n",
      "Starting training for 30 epochs...\n",
      "\n",
      "      Epoch    GPU_mem   box_loss   cls_loss   dfl_loss  Instances       Size\n"
     ]
    },
    {
     "name": "stderr",
     "output_type": "stream",
     "text": [
      "       1/30      6.37G      3.527      5.439      2.208         81        640:  82%|████████▏ | 1031/1262 [20:13<04:34,  1.19s/it]"
     ]
    }
   ],
   "source": [
    "# # Initialize the model using the loaded configuration\n",
    "model_day = YOLO(\"yolov8m.yaml\")  # Load a pretrained model (e.g., yolov8s.pt)\n",
    "\n",
    "#Trening z dynamicznym przekazaniem configu\n",
    "\n",
    "model_day.train(\n",
    "    data=\"dataset/dataset_day.yaml\",\n",
    "    imgsz=model_cfg['img_size'],\n",
    "    epochs=model_cfg['epochs'],\n",
    "    batch=model_cfg['batch'],\n",
    "    optimizer='SGD',\n",
    "    verbose=False,\n",
    "    lr0=model_cfg['lr'],\n",
    "    momentum=model_cfg['momentum'],\n",
    "    weight_decay=model_cfg['weight_decay'],\n",
    "    hsv_h=model_cfg['hsv_h'],\n",
    "    hsv_s=model_cfg['hsv_s'],\n",
    "    hsv_v=model_cfg['hsv_v'],\n",
    "    translate=model_cfg['translate'],\n",
    "    scale=1,\n",
    "    shear=model_cfg['shear'],\n",
    "    fliplr=model_cfg['fliplr'],\n",
    "    mosaic=model_cfg['mosaic'],\n",
    "    mixup=model_cfg['mixup'],\n",
    "    project=\"runs_yolo\",\n",
    "    name=f\"yolo_day_balanced\",\n",
    "    workers=4,\n",
    "    device=0,\n",
    "    patience=10,\n",
    "    warmup_epochs=3,\n",
    "    resume=True,\n",
    ")"
   ]
  },
  {
   "cell_type": "code",
   "execution_count": null,
   "metadata": {},
   "outputs": [],
   "source": [
    "# # Initialize the model using the loaded configuration\n",
    "model_night = YOLO(\"yolov8m.yaml\")  # Load a pretrained model (e.g., yolov8s.pt)\n",
    "\n",
    "#Trening z dynamicznym przekazaniem configu\n",
    "\n",
    "model_night.train(\n",
    "    data=\"dataset/dataset_night.yaml\",\n",
    "    imgsz=model_cfg['img_size'],\n",
    "    epochs=model_cfg['epochs'],\n",
    "    batch=model_cfg['batch'],\n",
    "    optimizer='SGD',\n",
    "    verbose=False,\n",
    "    lr0=model_cfg['lr'],\n",
    "    momentum=model_cfg['momentum'],\n",
    "    weight_decay=model_cfg['weight_decay'],\n",
    "    hsv_h=model_cfg['hsv_h'],\n",
    "    hsv_s=model_cfg['hsv_s'],\n",
    "    hsv_v=model_cfg['hsv_v'],\n",
    "    translate=model_cfg['translate'],\n",
    "    scale=1,\n",
    "    shear=model_cfg['shear'],\n",
    "    fliplr=model_cfg['fliplr'],\n",
    "    mosaic=model_cfg['mosaic'],\n",
    "    mixup=model_cfg['mixup'],\n",
    "    project=\"runs_yolo\",\n",
    "    name=f\"yolo_night_balanced\",\n",
    "    workers=4,\n",
    "    device=0,\n",
    "    patience=10,\n",
    "    warmup_epochs=3,\n",
    "    resume=True,\n",
    ")"
   ]
  }
 ],
 "metadata": {
  "kernelspec": {
   "display_name": "venv",
   "language": "python",
   "name": "python3"
  },
  "language_info": {
   "codemirror_mode": {
    "name": "ipython",
    "version": 3
   },
   "file_extension": ".py",
   "mimetype": "text/x-python",
   "name": "python",
   "nbconvert_exporter": "python",
   "pygments_lexer": "ipython3",
   "version": "3.11.3"
  }
 },
 "nbformat": 4,
 "nbformat_minor": 2
}
