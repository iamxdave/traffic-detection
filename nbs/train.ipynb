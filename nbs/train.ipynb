{
 "cells": [
  {
   "cell_type": "code",
   "execution_count": 3,
   "metadata": {},
   "outputs": [],
   "source": [
    "import sys\n",
    "import os\n",
    "\n",
    "# Get the project root\n",
    "project_root = os.path.abspath(os.path.join(os.getcwd(), \"..\"))  # Moves one directory up\n",
    "sys.path.append(project_root)  # Add to sys.path\n",
    "import sys"
   ]
  },
  {
   "cell_type": "code",
   "execution_count": 4,
   "metadata": {},
   "outputs": [],
   "source": [
    "# training_notebook.ipynb\n",
    "import torch\n",
    "from scripts.train_model import train_model, load_config, save_model, build_model\n",
    "from scripts.evaluate_model import evaluate_model\n",
    "from torch.utils.data import DataLoader\n",
    "import yaml\n"
   ]
  },
  {
   "cell_type": "code",
   "execution_count": null,
   "metadata": {},
   "outputs": [],
   "source": [
    "# Load training and validation datasets\n",
    "train_data = ...  # Load your training dataset here\n",
    "val_data = ...  # Load your validation dataset here"
   ]
  },
  {
   "cell_type": "code",
   "execution_count": null,
   "metadata": {},
   "outputs": [],
   "source": [
    "# Load the configuration file\n",
    "config_path = '../cfg/yolo_v8.yaml'  # Path to the desired configuration\n",
    "config = load_config(config_path)\n",
    "\n",
    "# Initialize the model using the loaded configuration\n",
    "model = build_model(config)\n",
    "\n",
    "# Create DataLoader for training and validation datasets (replace with actual datasets)\n",
    "train_data = ...  # Load your training dataset here\n",
    "val_data = ...  # Load your validation dataset here\n",
    "train_loader = DataLoader(train_data, batch_size=config['batch_size'], shuffle=True)\n",
    "val_loader = DataLoader(val_data, batch_size=config['batch_size'], shuffle=False)\n",
    "\n",
    "# Train the model\n",
    "train_model(model, config, train_loader)\n",
    "\n",
    "# Save the trained model\n",
    "save_model(model, './yolo_v8_trained.pth')\n",
    "\n",
    "# Evaluate the model\n",
    "evaluate_model(model, val_loader)"
   ]
  },
  {
   "cell_type": "code",
   "execution_count": null,
   "metadata": {},
   "outputs": [],
   "source": []
  },
  {
   "cell_type": "code",
   "execution_count": null,
   "metadata": {},
   "outputs": [],
   "source": []
  },
  {
   "cell_type": "code",
   "execution_count": null,
   "metadata": {},
   "outputs": [],
   "source": []
  },
  {
   "cell_type": "code",
   "execution_count": null,
   "metadata": {},
   "outputs": [],
   "source": []
  }
 ],
 "metadata": {
  "kernelspec": {
   "display_name": "venv",
   "language": "python",
   "name": "python3"
  },
  "language_info": {
   "codemirror_mode": {
    "name": "ipython",
    "version": 3
   },
   "file_extension": ".py",
   "mimetype": "text/x-python",
   "name": "python",
   "nbconvert_exporter": "python",
   "pygments_lexer": "ipython3",
   "version": "3.11.3"
  }
 },
 "nbformat": 4,
 "nbformat_minor": 2
}
