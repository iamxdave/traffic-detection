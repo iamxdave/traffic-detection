{
 "cells": [
  {
   "cell_type": "code",
   "execution_count": null,
   "metadata": {},
   "outputs": [],
   "source": [
    "# training_notebook.ipynb\n",
    "import sys\n",
    "import os\n",
<<<<<<< HEAD
    "\n",
    "# Get the project root\n",
    "project_root = os.path.abspath(os.path.join(os.getcwd(), \"..\"))  # Moves one directory up\n",
    "sys.path.append(project_root)  # Add to sys.path"
=======
    "from pathlib import Path\n",
    "\n",
    "# Get project root (one level up from current working directory)\n",
    "project_root = Path.cwd().parent.resolve()\n",
    "sys.path.append(str(project_root))  # Convert Path to str for sys.path"
>>>>>>> e611c71 (fix: change paths to be used by unix and windows)
   ]
  },
  {
   "cell_type": "code",
   "execution_count": null,
   "metadata": {},
   "outputs": [],
   "source": [
    "from scripts.train_model import train_model_with_early_stopping, load_config, save_model, build_model, build_dataloader\n",
    "from scripts.evaluate_model import evaluate_model"
   ]
  },
  {
   "cell_type": "code",
   "execution_count": null,
   "metadata": {},
   "outputs": [],
   "source": [
    "import torch\n",
    "from torch.utils.data import DataLoader\n",
    "import yaml"
   ]
  },
  {
   "cell_type": "code",
   "execution_count": null,
   "metadata": {},
   "outputs": [],
   "source": [
<<<<<<< HEAD
    "# Load training and validation datasets\n",
    "train_data = 'dataset/train.txt'  # Load your training dataset here\n",
    "val_data = 'dataset/test.txt'  # Load your validation dataset here"
=======
    "# Define dataset paths using pathlib for cross-platform compatibility\n",
    "train_data = project_root / 'dataset' / 'train.txt'\n",
    "val_data = project_root / 'dataset' / 'test.txt'"
   ]
  },
  {
   "cell_type": "code",
   "execution_count": null,
   "metadata": {},
   "outputs": [],
   "source": [
    "train_data = train_data.as_posix()  # Convert to macOS format (forward slashes)\n",
    "val_data = val_data.as_posix()  # Convert to macOS format (forward slashes)"
>>>>>>> e611c71 (fix: change paths to be used by unix and windows)
   ]
  },
  {
   "cell_type": "code",
   "execution_count": null,
   "metadata": {},
   "outputs": [],
   "source": [
    "# Load the configurations file\n",
<<<<<<< HEAD
    "yolo_cfg    = load_config(os.path.join(project_root, \"cfg\", \"yolo.yaml\"))\n",
    "dataset_cfg = load_config(os.path.join(project_root, \"dataset\", \"dataset.yaml\"))"
=======
    "yolo_cfg = load_config(project_root / \"cfg\" / \"yolo.yaml\")\n",
    "dataset_cfg = load_config(project_root / \"dataset\" / \"dataset.yaml\")"
>>>>>>> e611c71 (fix: change paths to be used by unix and windows)
   ]
  },
  {
   "cell_type": "code",
   "execution_count": null,
   "metadata": {},
   "outputs": [],
   "source": [
    "# Create Dataset objects\n",
    "train_ds = build_dataloader(yolo_cfg, dataset_cfg, train=True)\n",
    "val_ds = build_dataloader(yolo_cfg, dataset_cfg, train=False)"
   ]
  },
  {
   "cell_type": "code",
   "execution_count": null,
   "metadata": {},
   "outputs": [],
   "source": [
    "# Initialize the model using the loaded configuration\n",
    "model = build_model(yolo_cfg)"
   ]
  },
  {
   "cell_type": "code",
   "execution_count": null,
   "metadata": {},
   "outputs": [],
   "source": [
    "device = torch.device('cuda' if torch.cuda.is_available() else 'cpu')"
   ]
  },
  {
   "cell_type": "code",
   "execution_count": null,
   "metadata": {},
<<<<<<< HEAD
   "outputs": [
    {
     "name": "stderr",
     "output_type": "stream",
     "text": [
      "Validation:  43%|████▎     | 3932/9091 [01:24<01:22, 62.50it/s, val_loss=0.0167]"
     ]
    }
   ],
=======
   "outputs": [],
>>>>>>> e611c71 (fix: change paths to be used by unix and windows)
   "source": [
    "# Train the model\n",
    "train_model_with_early_stopping(model, yolo_cfg, train_ds, val_ds, device)"
   ]
  },
  {
   "cell_type": "code",
   "execution_count": null,
   "metadata": {},
   "outputs": [],
   "source": [
    "# Save the trained model\n",
    "save_model(model, './yolo_trained.pth')"
   ]
  },
  {
   "cell_type": "code",
   "execution_count": null,
   "metadata": {},
   "outputs": [],
   "source": [
    "# Evaluate the model\n",
    "evaluate_model(model, val_loader, device)"
   ]
  }
 ],
 "metadata": {
  "kernelspec": {
   "display_name": "venv",
   "language": "python",
   "name": "python3"
  },
  "language_info": {
   "codemirror_mode": {
    "name": "ipython",
    "version": 3
   },
   "file_extension": ".py",
   "mimetype": "text/x-python",
   "name": "python",
   "nbconvert_exporter": "python",
   "pygments_lexer": "ipython3",
<<<<<<< HEAD
   "version": "3.11.3"
=======
   "version": "3.9.6"
>>>>>>> e611c71 (fix: change paths to be used by unix and windows)
  }
 },
 "nbformat": 4,
 "nbformat_minor": 2
}
